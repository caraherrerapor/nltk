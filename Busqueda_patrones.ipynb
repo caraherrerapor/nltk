{
  "nbformat": 4,
  "nbformat_minor": 0,
  "metadata": {
    "colab": {
      "name": "Busqueda_patrones.ipynb",
      "provenance": [],
      "authorship_tag": "ABX9TyOrIbVx8O6CC9y8KLld2s/U",
      "include_colab_link": true
    },
    "kernelspec": {
      "name": "python3",
      "display_name": "Python 3"
    },
    "language_info": {
      "name": "python"
    }
  },
  "cells": [
    {
      "cell_type": "markdown",
      "metadata": {
        "id": "view-in-github",
        "colab_type": "text"
      },
      "source": [
        "<a href=\"https://colab.research.google.com/github/caraherrerapor/nltk/blob/master/Busqueda_patrones.ipynb\" target=\"_parent\"><img src=\"https://colab.research.google.com/assets/colab-badge.svg\" alt=\"Open In Colab\"/></a>"
      ]
    },
    {
      "cell_type": "code",
      "metadata": {
        "id": "vka9daZ-LdNA",
        "colab": {
          "base_uri": "https://localhost:8080/"
        },
        "outputId": "cc92bb18-e006-48a8-8416-09c9f55548b2"
      },
      "source": [
        "import nltk\n",
        "nltk.download('cess_esp')"
      ],
      "execution_count": 2,
      "outputs": [
        {
          "output_type": "stream",
          "name": "stdout",
          "text": [
            "[nltk_data] Downloading package cess_esp to /root/nltk_data...\n",
            "[nltk_data]   Unzipping corpora/cess_esp.zip.\n"
          ]
        },
        {
          "output_type": "execute_result",
          "data": {
            "text/plain": [
              "True"
            ]
          },
          "metadata": {},
          "execution_count": 2
        }
      ]
    },
    {
      "cell_type": "code",
      "metadata": {
        "colab": {
          "base_uri": "https://localhost:8080/"
        },
        "id": "mkSwetSbL9zN",
        "outputId": "f0cf7102-7294-41b9-8a38-c2042df2c15e"
      },
      "source": [
        "#expresiones regulares\n",
        "import re\n",
        "#definimos un corpus\n",
        "corpus = nltk.corpus.cess_esp.sents()\n",
        "print(len(corpus))\n",
        "print(corpus)"
      ],
      "execution_count": 11,
      "outputs": [
        {
          "output_type": "stream",
          "name": "stdout",
          "text": [
            "6030\n",
            "[['El', 'grupo', 'estatal', 'Electricité_de_France', '-Fpa-', 'EDF', '-Fpt-', 'anunció', 'hoy', ',', 'jueves', ',', 'la', 'compra', 'del', '51_por_ciento', 'de', 'la', 'empresa', 'mexicana', 'Electricidad_Águila_de_Altamira', '-Fpa-', 'EAA', '-Fpt-', ',', 'creada', 'por', 'el', 'japonés', 'Mitsubishi_Corporation', 'para', 'poner_en_marcha', 'una', 'central', 'de', 'gas', 'de', '495', 'megavatios', '.'], ['Una', 'portavoz', 'de', 'EDF', 'explicó', 'a', 'EFE', 'que', 'el', 'proyecto', 'para', 'la', 'construcción', 'de', 'Altamira_2', ',', 'al', 'norte', 'de', 'Tampico', ',', 'prevé', 'la', 'utilización', 'de', 'gas', 'natural', 'como', 'combustible', 'principal', 'en', 'una', 'central', 'de', 'ciclo', 'combinado', 'que', 'debe', 'empezar', 'a', 'funcionar', 'en', 'mayo_del_2002', '.'], ...]\n"
          ]
        }
      ]
    },
    {
      "cell_type": "code",
      "metadata": {
        "colab": {
          "base_uri": "https://localhost:8080/"
        },
        "id": "JKIGRAc-McNe",
        "outputId": "12657c03-bdbb-4a61-a900-5755475867f0"
      },
      "source": [
        "#aplanar lista\n",
        "flatten = [w for l in corpus for w in l]\n",
        "print(flatten[:20])# los primeros 20 elementos"
      ],
      "execution_count": 12,
      "outputs": [
        {
          "output_type": "stream",
          "name": "stdout",
          "text": [
            "['El', 'grupo', 'estatal', 'Electricité_de_France', '-Fpa-', 'EDF', '-Fpt-', 'anunció', 'hoy', ',', 'jueves', ',', 'la', 'compra', 'del', '51_por_ciento', 'de', 'la', 'empresa', 'mexicana']\n"
          ]
        }
      ]
    },
    {
      "cell_type": "code",
      "metadata": {
        "colab": {
          "base_uri": "https://localhost:8080/"
        },
        "id": "qucwXVJBOQz9",
        "outputId": "5abe6ffd-7529-4c46-f74b-e7bd79ef10a4"
      },
      "source": [
        "#estructura de la funcion re.research() \n",
        "# re.search(p,s) p-> patron\n",
        "\n",
        "arr = [w for w in flatten if re.search('es',w)] \n",
        "# EL patron se busca en cualquier parte de la palabra ( metacaracter)\n",
        "print(arr[:5])\n"
      ],
      "execution_count": 17,
      "outputs": [
        {
          "output_type": "stream",
          "name": "stdout",
          "text": [
            "['estatal', 'jueves', 'empresa', 'centrales', 'francesa']\n"
          ]
        }
      ]
    },
    {
      "cell_type": "code",
      "metadata": {
        "colab": {
          "base_uri": "https://localhost:8080/"
        },
        "id": "ZKkZLoFoPclD",
        "outputId": "4b42c915-f280-4609-a90f-c3ce7314aabc"
      },
      "source": [
        "arr = [w for w in flatten if re.search('es$',w)]\n",
        "print(arr[:5])\n",
        "# la terminacion$ significa que termina"
      ],
      "execution_count": 18,
      "outputs": [
        {
          "output_type": "stream",
          "name": "stdout",
          "text": [
            "['jueves', 'centrales', 'millones', 'millones', 'dólares']\n"
          ]
        }
      ]
    },
    {
      "cell_type": "code",
      "metadata": {
        "colab": {
          "base_uri": "https://localhost:8080/"
        },
        "id": "rO_qHW5LQxW3",
        "outputId": "fdbcd0b9-98a6-4887-bb97-f45d941c3b69"
      },
      "source": [
        "arr = [w for w in flatten if re.search('^es',w)]\n",
        "# El caracter ^ nos busca el patron al inicio\n",
        "print(arr[:5])"
      ],
      "execution_count": 19,
      "outputs": [
        {
          "output_type": "stream",
          "name": "stdout",
          "text": [
            "['estatal', 'es', 'esta', 'esta', 'eso']\n"
          ]
        }
      ]
    },
    {
      "cell_type": "code",
      "metadata": {
        "colab": {
          "base_uri": "https://localhost:8080/"
        },
        "id": "iiiMNMLgRCZV",
        "outputId": "fcdc54c3-e8b8-4c93-efeb-bcfa0e5dbad4"
      },
      "source": [
        "arr = [w for w in flatten if re.search('^[ghi]',w)]\n",
        "print(arr[:10])\n",
        "#el rango[a-z],^[ghi]"
      ],
      "execution_count": 20,
      "outputs": [
        {
          "output_type": "stream",
          "name": "stdout",
          "text": [
            "['grupo', 'hoy', 'gas', 'gas', 'intervendrá', 'invertir', 'gas', 'hoy', 'insulto', 'intervención']\n"
          ]
        }
      ]
    },
    {
      "cell_type": "code",
      "metadata": {
        "colab": {
          "base_uri": "https://localhost:8080/"
        },
        "id": "R2cVvFT7SMji",
        "outputId": "4107eff3-c7a4-4498-99b6-73d76ed23c9f"
      },
      "source": [
        "#clausuras\n",
        "# * repetir 0 o mas veces\n",
        "# + repetir 1 o mas veces\n",
        "\n",
        "arr = [w for w in flatten if re.search('^(no)*',w)]\n",
        "print(arr[:20])"
      ],
      "execution_count": 21,
      "outputs": [
        {
          "output_type": "stream",
          "name": "stdout",
          "text": [
            "['El', 'grupo', 'estatal', 'Electricité_de_France', '-Fpa-', 'EDF', '-Fpt-', 'anunció', 'hoy', ',', 'jueves', ',', 'la', 'compra', 'del', '51_por_ciento', 'de', 'la', 'empresa', 'mexicana']\n"
          ]
        }
      ]
    },
    {
      "cell_type": "code",
      "metadata": {
        "colab": {
          "base_uri": "https://localhost:8080/"
        },
        "id": "UIGhLz5SSwUX",
        "outputId": "0ed61a7e-2321-4246-d7bf-415dbffbe9e3"
      },
      "source": [
        "arr = [w for w in flatten if re.search('^(no)+',w)]\n",
        "print(arr[:20])"
      ],
      "execution_count": 22,
      "outputs": [
        {
          "output_type": "stream",
          "name": "stdout",
          "text": [
            "['norte', 'no', 'no', 'noche', 'no', 'no', 'notificación', 'no', 'no', 'no', 'no_obstante', 'no', 'no', 'no', 'norte', 'no', 'no', 'no', 'no', 'norteamericano']\n"
          ]
        }
      ]
    },
    {
      "cell_type": "code",
      "metadata": {
        "id": "A9I48zAoS5my"
      },
      "source": [
        ""
      ],
      "execution_count": null,
      "outputs": []
    }
  ]
}
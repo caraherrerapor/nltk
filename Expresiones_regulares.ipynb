{
  "nbformat": 4,
  "nbformat_minor": 0,
  "metadata": {
    "colab": {
      "name": "Expresiones_regulares.ipynb",
      "provenance": [],
      "authorship_tag": "ABX9TyNHkJT4B44QV0rHGpB1o5sV",
      "include_colab_link": true
    },
    "kernelspec": {
      "name": "python3",
      "display_name": "Python 3"
    },
    "language_info": {
      "name": "python"
    }
  },
  "cells": [
    {
      "cell_type": "markdown",
      "metadata": {
        "id": "view-in-github",
        "colab_type": "text"
      },
      "source": [
        "<a href=\"https://colab.research.google.com/github/caraherrerapor/nltk/blob/master/Expresiones_regulares.ipynb\" target=\"_parent\"><img src=\"https://colab.research.google.com/assets/colab-badge.svg\" alt=\"Open In Colab\"/></a>"
      ]
    },
    {
      "cell_type": "code",
      "metadata": {
        "id": "WyURUcXuUeVy"
      },
      "source": [
        "import re\n",
        "import nltk"
      ],
      "execution_count": 17,
      "outputs": []
    },
    {
      "cell_type": "code",
      "metadata": {
        "colab": {
          "base_uri": "https://localhost:8080/"
        },
        "id": "HHqJ1-OjTS1l",
        "outputId": "aa97804a-6569-40c3-d0f6-5fd27d738b9b"
      },
      "source": [
        "#raw r especifica texto plano\n",
        "print(r\"esta es \\n una prueba\")"
      ],
      "execution_count": 5,
      "outputs": [
        {
          "output_type": "stream",
          "name": "stdout",
          "text": [
            "esta es \\n una prueba\n"
          ]
        }
      ]
    },
    {
      "cell_type": "code",
      "metadata": {
        "id": "DdFcffRWTWBD"
      },
      "source": [
        "texto = \"\"\" cuando sea el rey del mundo (imaginaba él en su cabeza) no tendré que preocuparme por estas bobadas.\n",
        "            Era solo un niño de 7 años ,pero pensaba que podria ser cualquier cosas que su imaginacion le permitiera\n",
        "            visualizar en su cabeza...\"\"\""
      ],
      "execution_count": 6,
      "outputs": []
    },
    {
      "cell_type": "code",
      "metadata": {
        "colab": {
          "base_uri": "https://localhost:8080/"
        },
        "id": "-F5CF8pXUSkP",
        "outputId": "13b216c2-fd00-446b-d6aa-f3832900fb28"
      },
      "source": [
        "# caso1: tokenizar por espacios vacios\n",
        "print(re.split(r' ',texto))"
      ],
      "execution_count": 9,
      "outputs": [
        {
          "output_type": "stream",
          "name": "stdout",
          "text": [
            "['', 'cuando', 'sea', 'el', 'rey', 'del', 'mundo', '(imaginaba', 'él', 'en', 'su', 'cabeza)', 'no', 'tendré', 'que', 'preocuparme', 'por', 'estas', 'bobadas.\\n', '', '', '', '', '', '', '', '', '', '', '', 'Era', 'solo', 'un', 'niño', 'de', '7', 'años', ',pero', 'pensaba', 'que', 'podria', 'ser', 'cualquier', 'cosas', 'que', 'su', 'imaginacion', 'le', 'permitiera\\n', '', '', '', '', '', '', '', '', '', '', '', 'visualizar', 'en', 'su', 'cabeza...']\n"
          ]
        }
      ]
    },
    {
      "cell_type": "code",
      "metadata": {
        "colab": {
          "base_uri": "https://localhost:8080/"
        },
        "id": "fNIhwzEuUgqe",
        "outputId": "b5f4ae07-eb49-45e5-a8bc-dfbe36fdf12d"
      },
      "source": [
        "#caso 2: tokenizacion usando regex\n",
        "print(re.split(r'[ \\t\\n]+',texto))"
      ],
      "execution_count": 10,
      "outputs": [
        {
          "output_type": "stream",
          "name": "stdout",
          "text": [
            "['', 'cuando', 'sea', 'el', 'rey', 'del', 'mundo', '(imaginaba', 'él', 'en', 'su', 'cabeza)', 'no', 'tendré', 'que', 'preocuparme', 'por', 'estas', 'bobadas.', 'Era', 'solo', 'un', 'niño', 'de', '7', 'años', ',pero', 'pensaba', 'que', 'podria', 'ser', 'cualquier', 'cosas', 'que', 'su', 'imaginacion', 'le', 'permitiera', 'visualizar', 'en', 'su', 'cabeza...']\n"
          ]
        }
      ]
    },
    {
      "cell_type": "code",
      "metadata": {
        "colab": {
          "base_uri": "https://localhost:8080/"
        },
        "id": "zxv3D7wrVf2Y",
        "outputId": "66bb4895-4dc4-4eb2-99cd-8012e6911dcd"
      },
      "source": [
        "#caso 3: \n",
        "print(re.split(r'[ \\W\\t\\n]+',texto))"
      ],
      "execution_count": 14,
      "outputs": [
        {
          "output_type": "stream",
          "name": "stdout",
          "text": [
            "['', 'cuando', 'sea', 'el', 'rey', 'del', 'mundo', 'imaginaba', 'él', 'en', 'su', 'cabeza', 'no', 'tendré', 'que', 'preocuparme', 'por', 'estas', 'bobadas', 'Era', 'solo', 'un', 'niño', 'de', '7', 'años', 'pero', 'pensaba', 'que', 'podria', 'ser', 'cualquier', 'cosas', 'que', 'su', 'imaginacion', 'le', 'permitiera', 'visualizar', 'en', 'su', 'cabeza', '']\n"
          ]
        }
      ]
    },
    {
      "cell_type": "code",
      "metadata": {
        "colab": {
          "base_uri": "https://localhost:8080/"
        },
        "id": "uY2Jn1MWVoKM",
        "outputId": "33ac69c5-dc06-4e45-c973-a33cfbac4881"
      },
      "source": [
        "#tokenizarod de nltk\n",
        "texto = 'En los E.U. esa postal vale $15.50'\n",
        "print(re.split(r'[ \\W\\t\\n]+',texto))\n"
      ],
      "execution_count": 15,
      "outputs": [
        {
          "output_type": "stream",
          "name": "stdout",
          "text": [
            "['En', 'los', 'E', 'U', 'esa', 'postal', 'vale', '15', '50']\n"
          ]
        }
      ]
    },
    {
      "cell_type": "code",
      "metadata": {
        "id": "3sEzeP5KWSFD"
      },
      "source": [
        "pattern = r'''(?x)                  # Flag para iniciar el modo verbose\n",
        "              (?:[A-Z]\\.)+          # Hace match con abreviaciones como U.S.A.\n",
        "              | \\w+(?:-\\w+)*        # Hace match con palabras que pueden tener un guión interno\n",
        "              | \\$?\\d+(?:\\.\\d+)?%?  # Hace match con dinero o porcentajes como $15.5 o 100%\n",
        "              | \\.\\.\\.              # Hace match con puntos suspensivos\n",
        "              | [][.,;\"'?():-_`]    # Hace match con signos de puntuación\n",
        "'''"
      ],
      "execution_count": 16,
      "outputs": []
    },
    {
      "cell_type": "code",
      "metadata": {
        "colab": {
          "base_uri": "https://localhost:8080/"
        },
        "id": "jOrz7QB9XUnR",
        "outputId": "c62b80f0-8097-4c63-ef22-b38529eb1e93"
      },
      "source": [
        "nltk.regexp_tokenize(texto,pattern)"
      ],
      "execution_count": 18,
      "outputs": [
        {
          "output_type": "execute_result",
          "data": {
            "text/plain": [
              "['En', 'los', 'E.U.', 'esa', 'postal', 'vale', '$15.50']"
            ]
          },
          "metadata": {},
          "execution_count": 18
        }
      ]
    },
    {
      "cell_type": "code",
      "metadata": {
        "id": "rnMmOgD7XeZH"
      },
      "source": [
        ""
      ],
      "execution_count": null,
      "outputs": []
    }
  ]
}